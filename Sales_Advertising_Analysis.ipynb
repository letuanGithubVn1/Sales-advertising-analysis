{
  "cells": [
    {
      "cell_type": "markdown",
      "source": [
        "# **Sales Advertising Analysis**"
      ],
      "metadata": {
        "id": "fkrLwI1oVV53"
      }
    },
    {
      "cell_type": "markdown",
      "source": [
        "## 1️⃣ **Introduction**"
      ],
      "metadata": {
        "id": "jZqCJ0JXYfz5"
      }
    },
    {
      "cell_type": "markdown",
      "source": [
        "This project focuses on analyzing the effectiveness of advertising strategies across various channels, including traditional media such as TV, radio, and newspapers, as well as digital marketing. Linear regression is employed to predict sales, aiming to inform strategic decision-making in marketing."
      ],
      "metadata": {
        "id": "wPMKVT8uGqEr"
      }
    },
    {
      "cell_type": "markdown",
      "source": [
        "## 2️⃣ **Data Cleaning**"
      ],
      "metadata": {
        "id": "DNbjylyJeOtp"
      }
    },
    {
      "cell_type": "markdown",
      "source": [
        "Import all the needed libraries such as: pandas, matplotlib.pyplot, seaborn, statsmodels"
      ],
      "metadata": {
        "id": "mbBAwWNKZd6K"
      }
    },
    {
      "cell_type": "code",
      "source": [
        "import pandas as pd\n",
        "import matplotlib.pyplot as plt\n",
        "import seaborn as sns\n",
        "import statsmodels.api as sm"
      ],
      "metadata": {
        "id": "hJ26AGMYZI3L"
      },
      "execution_count": null,
      "outputs": []
    },
    {
      "cell_type": "markdown",
      "source": [
        "Load the data by the following link:\\\n",
        "https://raw.githubusercontent.com/letuanGithubVn1/Sales-advertising-analysis/refs/heads/master/sales_advertising.csv"
      ],
      "metadata": {
        "id": "l0hoq4T6ZdZI"
      }
    },
    {
      "cell_type": "code",
      "source": [
        "df = pd.read_csv('https://raw.githubusercontent.com/letuanGithubVn1/Sales-advertising-analysis/refs/heads/master/sales_advertising.csv')"
      ],
      "metadata": {
        "id": "Ip7uAH4KZcty"
      },
      "execution_count": null,
      "outputs": []
    },
    {
      "cell_type": "markdown",
      "source": [
        "Let's take a look at the loaded data.\n",
        "\n",
        "Output 5 random rows:"
      ],
      "metadata": {
        "id": "Vmp8_QMoe1H0"
      }
    },
    {
      "cell_type": "code",
      "source": [
        "df.sample(5)"
      ],
      "metadata": {
        "id": "4yTG7Z-Scb6g",
        "outputId": "c84d2eaf-e1b9-430e-d993-8a27351cea78",
        "colab": {
          "base_uri": "https://localhost:8080/",
          "height": 206
        }
      },
      "execution_count": null,
      "outputs": [
        {
          "output_type": "execute_result",
          "data": {
            "text/plain": [
              "          tv_ads   radio_ads  newspaper_ads  digital_marketing         sales\n",
              "1779  856.784421   74.635242     206.804467         765.938047   6697.529819\n",
              "4677  965.274958   80.937928     119.427730        1167.054090   8560.914944\n",
              "941   598.760202  155.446280      51.554388         692.836385   5810.344138\n",
              "3617  860.608766   93.968274     287.161841        1843.373732  12758.933461\n",
              "2154  190.573731  171.656866     131.559774        1615.600682   8154.525381"
            ],
            "text/html": [
              "\n",
              "  <div id=\"df-127e6018-706e-4cfb-b94f-34be26b37567\" class=\"colab-df-container\">\n",
              "    <div>\n",
              "<style scoped>\n",
              "    .dataframe tbody tr th:only-of-type {\n",
              "        vertical-align: middle;\n",
              "    }\n",
              "\n",
              "    .dataframe tbody tr th {\n",
              "        vertical-align: top;\n",
              "    }\n",
              "\n",
              "    .dataframe thead th {\n",
              "        text-align: right;\n",
              "    }\n",
              "</style>\n",
              "<table border=\"1\" class=\"dataframe\">\n",
              "  <thead>\n",
              "    <tr style=\"text-align: right;\">\n",
              "      <th></th>\n",
              "      <th>tv_ads</th>\n",
              "      <th>radio_ads</th>\n",
              "      <th>newspaper_ads</th>\n",
              "      <th>digital_marketing</th>\n",
              "      <th>sales</th>\n",
              "    </tr>\n",
              "  </thead>\n",
              "  <tbody>\n",
              "    <tr>\n",
              "      <th>1779</th>\n",
              "      <td>856.784421</td>\n",
              "      <td>74.635242</td>\n",
              "      <td>206.804467</td>\n",
              "      <td>765.938047</td>\n",
              "      <td>6697.529819</td>\n",
              "    </tr>\n",
              "    <tr>\n",
              "      <th>4677</th>\n",
              "      <td>965.274958</td>\n",
              "      <td>80.937928</td>\n",
              "      <td>119.427730</td>\n",
              "      <td>1167.054090</td>\n",
              "      <td>8560.914944</td>\n",
              "    </tr>\n",
              "    <tr>\n",
              "      <th>941</th>\n",
              "      <td>598.760202</td>\n",
              "      <td>155.446280</td>\n",
              "      <td>51.554388</td>\n",
              "      <td>692.836385</td>\n",
              "      <td>5810.344138</td>\n",
              "    </tr>\n",
              "    <tr>\n",
              "      <th>3617</th>\n",
              "      <td>860.608766</td>\n",
              "      <td>93.968274</td>\n",
              "      <td>287.161841</td>\n",
              "      <td>1843.373732</td>\n",
              "      <td>12758.933461</td>\n",
              "    </tr>\n",
              "    <tr>\n",
              "      <th>2154</th>\n",
              "      <td>190.573731</td>\n",
              "      <td>171.656866</td>\n",
              "      <td>131.559774</td>\n",
              "      <td>1615.600682</td>\n",
              "      <td>8154.525381</td>\n",
              "    </tr>\n",
              "  </tbody>\n",
              "</table>\n",
              "</div>\n",
              "    <div class=\"colab-df-buttons\">\n",
              "\n",
              "  <div class=\"colab-df-container\">\n",
              "    <button class=\"colab-df-convert\" onclick=\"convertToInteractive('df-127e6018-706e-4cfb-b94f-34be26b37567')\"\n",
              "            title=\"Convert this dataframe to an interactive table.\"\n",
              "            style=\"display:none;\">\n",
              "\n",
              "  <svg xmlns=\"http://www.w3.org/2000/svg\" height=\"24px\" viewBox=\"0 -960 960 960\">\n",
              "    <path d=\"M120-120v-720h720v720H120Zm60-500h600v-160H180v160Zm220 220h160v-160H400v160Zm0 220h160v-160H400v160ZM180-400h160v-160H180v160Zm440 0h160v-160H620v160ZM180-180h160v-160H180v160Zm440 0h160v-160H620v160Z\"/>\n",
              "  </svg>\n",
              "    </button>\n",
              "\n",
              "  <style>\n",
              "    .colab-df-container {\n",
              "      display:flex;\n",
              "      gap: 12px;\n",
              "    }\n",
              "\n",
              "    .colab-df-convert {\n",
              "      background-color: #E8F0FE;\n",
              "      border: none;\n",
              "      border-radius: 50%;\n",
              "      cursor: pointer;\n",
              "      display: none;\n",
              "      fill: #1967D2;\n",
              "      height: 32px;\n",
              "      padding: 0 0 0 0;\n",
              "      width: 32px;\n",
              "    }\n",
              "\n",
              "    .colab-df-convert:hover {\n",
              "      background-color: #E2EBFA;\n",
              "      box-shadow: 0px 1px 2px rgba(60, 64, 67, 0.3), 0px 1px 3px 1px rgba(60, 64, 67, 0.15);\n",
              "      fill: #174EA6;\n",
              "    }\n",
              "\n",
              "    .colab-df-buttons div {\n",
              "      margin-bottom: 4px;\n",
              "    }\n",
              "\n",
              "    [theme=dark] .colab-df-convert {\n",
              "      background-color: #3B4455;\n",
              "      fill: #D2E3FC;\n",
              "    }\n",
              "\n",
              "    [theme=dark] .colab-df-convert:hover {\n",
              "      background-color: #434B5C;\n",
              "      box-shadow: 0px 1px 3px 1px rgba(0, 0, 0, 0.15);\n",
              "      filter: drop-shadow(0px 1px 2px rgba(0, 0, 0, 0.3));\n",
              "      fill: #FFFFFF;\n",
              "    }\n",
              "  </style>\n",
              "\n",
              "    <script>\n",
              "      const buttonEl =\n",
              "        document.querySelector('#df-127e6018-706e-4cfb-b94f-34be26b37567 button.colab-df-convert');\n",
              "      buttonEl.style.display =\n",
              "        google.colab.kernel.accessAllowed ? 'block' : 'none';\n",
              "\n",
              "      async function convertToInteractive(key) {\n",
              "        const element = document.querySelector('#df-127e6018-706e-4cfb-b94f-34be26b37567');\n",
              "        const dataTable =\n",
              "          await google.colab.kernel.invokeFunction('convertToInteractive',\n",
              "                                                    [key], {});\n",
              "        if (!dataTable) return;\n",
              "\n",
              "        const docLinkHtml = 'Like what you see? Visit the ' +\n",
              "          '<a target=\"_blank\" href=https://colab.research.google.com/notebooks/data_table.ipynb>data table notebook</a>'\n",
              "          + ' to learn more about interactive tables.';\n",
              "        element.innerHTML = '';\n",
              "        dataTable['output_type'] = 'display_data';\n",
              "        await google.colab.output.renderOutput(dataTable, element);\n",
              "        const docLink = document.createElement('div');\n",
              "        docLink.innerHTML = docLinkHtml;\n",
              "        element.appendChild(docLink);\n",
              "      }\n",
              "    </script>\n",
              "  </div>\n",
              "\n",
              "\n",
              "    <div id=\"df-2266be54-0927-4ed5-bd38-620dcd9539d0\">\n",
              "      <button class=\"colab-df-quickchart\" onclick=\"quickchart('df-2266be54-0927-4ed5-bd38-620dcd9539d0')\"\n",
              "                title=\"Suggest charts\"\n",
              "                style=\"display:none;\">\n",
              "\n",
              "<svg xmlns=\"http://www.w3.org/2000/svg\" height=\"24px\"viewBox=\"0 0 24 24\"\n",
              "     width=\"24px\">\n",
              "    <g>\n",
              "        <path d=\"M19 3H5c-1.1 0-2 .9-2 2v14c0 1.1.9 2 2 2h14c1.1 0 2-.9 2-2V5c0-1.1-.9-2-2-2zM9 17H7v-7h2v7zm4 0h-2V7h2v10zm4 0h-2v-4h2v4z\"/>\n",
              "    </g>\n",
              "</svg>\n",
              "      </button>\n",
              "\n",
              "<style>\n",
              "  .colab-df-quickchart {\n",
              "      --bg-color: #E8F0FE;\n",
              "      --fill-color: #1967D2;\n",
              "      --hover-bg-color: #E2EBFA;\n",
              "      --hover-fill-color: #174EA6;\n",
              "      --disabled-fill-color: #AAA;\n",
              "      --disabled-bg-color: #DDD;\n",
              "  }\n",
              "\n",
              "  [theme=dark] .colab-df-quickchart {\n",
              "      --bg-color: #3B4455;\n",
              "      --fill-color: #D2E3FC;\n",
              "      --hover-bg-color: #434B5C;\n",
              "      --hover-fill-color: #FFFFFF;\n",
              "      --disabled-bg-color: #3B4455;\n",
              "      --disabled-fill-color: #666;\n",
              "  }\n",
              "\n",
              "  .colab-df-quickchart {\n",
              "    background-color: var(--bg-color);\n",
              "    border: none;\n",
              "    border-radius: 50%;\n",
              "    cursor: pointer;\n",
              "    display: none;\n",
              "    fill: var(--fill-color);\n",
              "    height: 32px;\n",
              "    padding: 0;\n",
              "    width: 32px;\n",
              "  }\n",
              "\n",
              "  .colab-df-quickchart:hover {\n",
              "    background-color: var(--hover-bg-color);\n",
              "    box-shadow: 0 1px 2px rgba(60, 64, 67, 0.3), 0 1px 3px 1px rgba(60, 64, 67, 0.15);\n",
              "    fill: var(--button-hover-fill-color);\n",
              "  }\n",
              "\n",
              "  .colab-df-quickchart-complete:disabled,\n",
              "  .colab-df-quickchart-complete:disabled:hover {\n",
              "    background-color: var(--disabled-bg-color);\n",
              "    fill: var(--disabled-fill-color);\n",
              "    box-shadow: none;\n",
              "  }\n",
              "\n",
              "  .colab-df-spinner {\n",
              "    border: 2px solid var(--fill-color);\n",
              "    border-color: transparent;\n",
              "    border-bottom-color: var(--fill-color);\n",
              "    animation:\n",
              "      spin 1s steps(1) infinite;\n",
              "  }\n",
              "\n",
              "  @keyframes spin {\n",
              "    0% {\n",
              "      border-color: transparent;\n",
              "      border-bottom-color: var(--fill-color);\n",
              "      border-left-color: var(--fill-color);\n",
              "    }\n",
              "    20% {\n",
              "      border-color: transparent;\n",
              "      border-left-color: var(--fill-color);\n",
              "      border-top-color: var(--fill-color);\n",
              "    }\n",
              "    30% {\n",
              "      border-color: transparent;\n",
              "      border-left-color: var(--fill-color);\n",
              "      border-top-color: var(--fill-color);\n",
              "      border-right-color: var(--fill-color);\n",
              "    }\n",
              "    40% {\n",
              "      border-color: transparent;\n",
              "      border-right-color: var(--fill-color);\n",
              "      border-top-color: var(--fill-color);\n",
              "    }\n",
              "    60% {\n",
              "      border-color: transparent;\n",
              "      border-right-color: var(--fill-color);\n",
              "    }\n",
              "    80% {\n",
              "      border-color: transparent;\n",
              "      border-right-color: var(--fill-color);\n",
              "      border-bottom-color: var(--fill-color);\n",
              "    }\n",
              "    90% {\n",
              "      border-color: transparent;\n",
              "      border-bottom-color: var(--fill-color);\n",
              "    }\n",
              "  }\n",
              "</style>\n",
              "\n",
              "      <script>\n",
              "        async function quickchart(key) {\n",
              "          const quickchartButtonEl =\n",
              "            document.querySelector('#' + key + ' button');\n",
              "          quickchartButtonEl.disabled = true;  // To prevent multiple clicks.\n",
              "          quickchartButtonEl.classList.add('colab-df-spinner');\n",
              "          try {\n",
              "            const charts = await google.colab.kernel.invokeFunction(\n",
              "                'suggestCharts', [key], {});\n",
              "          } catch (error) {\n",
              "            console.error('Error during call to suggestCharts:', error);\n",
              "          }\n",
              "          quickchartButtonEl.classList.remove('colab-df-spinner');\n",
              "          quickchartButtonEl.classList.add('colab-df-quickchart-complete');\n",
              "        }\n",
              "        (() => {\n",
              "          let quickchartButtonEl =\n",
              "            document.querySelector('#df-2266be54-0927-4ed5-bd38-620dcd9539d0 button');\n",
              "          quickchartButtonEl.style.display =\n",
              "            google.colab.kernel.accessAllowed ? 'block' : 'none';\n",
              "        })();\n",
              "      </script>\n",
              "    </div>\n",
              "\n",
              "    </div>\n",
              "  </div>\n"
            ],
            "application/vnd.google.colaboratory.intrinsic+json": {
              "type": "dataframe",
              "summary": "{\n  \"name\": \"df\",\n  \"rows\": 5,\n  \"fields\": [\n    {\n      \"column\": \"tv_ads\",\n      \"properties\": {\n        \"dtype\": \"number\",\n        \"std\": 312.3920524051978,\n        \"min\": 190.57373067118,\n        \"max\": 965.2749576778446,\n        \"num_unique_values\": 5,\n        \"samples\": [\n          965.2749576778446,\n          190.57373067118,\n          598.7602022642141\n        ],\n        \"semantic_type\": \"\",\n        \"description\": \"\"\n      }\n    },\n    {\n      \"column\": \"radio_ads\",\n      \"properties\": {\n        \"dtype\": \"number\",\n        \"std\": 44.9367136513223,\n        \"min\": 74.63524201681781,\n        \"max\": 171.65686572301297,\n        \"num_unique_values\": 5,\n        \"samples\": [\n          80.9379284399048,\n          171.65686572301297,\n          155.44627954273705\n        ],\n        \"semantic_type\": \"\",\n        \"description\": \"\"\n      }\n    },\n    {\n      \"column\": \"newspaper_ads\",\n      \"properties\": {\n        \"dtype\": \"number\",\n        \"std\": 90.2410102604099,\n        \"min\": 51.55438797197583,\n        \"max\": 287.161841049524,\n        \"num_unique_values\": 5,\n        \"samples\": [\n          119.42772994824276,\n          131.55977370283233,\n          51.55438797197583\n        ],\n        \"semantic_type\": \"\",\n        \"description\": \"\"\n      }\n    },\n    {\n      \"column\": \"digital_marketing\",\n      \"properties\": {\n        \"dtype\": \"number\",\n        \"std\": 507.918675110736,\n        \"min\": 692.8363845234419,\n        \"max\": 1843.373731575816,\n        \"num_unique_values\": 5,\n        \"samples\": [\n          1167.0540896060097,\n          1615.600681749962,\n          692.8363845234419\n        ],\n        \"semantic_type\": \"\",\n        \"description\": \"\"\n      }\n    },\n    {\n      \"column\": \"sales\",\n      \"properties\": {\n        \"dtype\": \"number\",\n        \"std\": 2678.204225810599,\n        \"min\": 5810.344137558766,\n        \"max\": 12758.933461205515,\n        \"num_unique_values\": 5,\n        \"samples\": [\n          8560.914944291797,\n          8154.525381030668,\n          5810.344137558766\n        ],\n        \"semantic_type\": \"\",\n        \"description\": \"\"\n      }\n    }\n  ]\n}"
            }
          },
          "metadata": {},
          "execution_count": 8
        }
      ]
    },
    {
      "cell_type": "markdown",
      "source": [
        "Then it's reasonable to take a look at columns, dtypes and non-null values. Let's output this."
      ],
      "metadata": {
        "id": "n7TkG2zke1li"
      }
    },
    {
      "cell_type": "code",
      "source": [
        "df.info()"
      ],
      "metadata": {
        "id": "G9aG3RloZz9P",
        "outputId": "96da822d-6b3b-44b7-e8f6-a4b3da37970a",
        "colab": {
          "base_uri": "https://localhost:8080/"
        }
      },
      "execution_count": null,
      "outputs": [
        {
          "output_type": "stream",
          "name": "stdout",
          "text": [
            "<class 'pandas.core.frame.DataFrame'>\n",
            "RangeIndex: 5000 entries, 0 to 4999\n",
            "Data columns (total 5 columns):\n",
            " #   Column             Non-Null Count  Dtype  \n",
            "---  ------             --------------  -----  \n",
            " 0   tv_ads             4985 non-null   float64\n",
            " 1   radio_ads          4982 non-null   float64\n",
            " 2   newspaper_ads      4977 non-null   float64\n",
            " 3   digital_marketing  4974 non-null   float64\n",
            " 4   sales              4982 non-null   float64\n",
            "dtypes: float64(5)\n",
            "memory usage: 195.4 KB\n"
          ]
        }
      ]
    },
    {
      "cell_type": "markdown",
      "source": [
        "*Show* a descriptive statistics of all columns:"
      ],
      "metadata": {
        "id": "IhRGOU_afXi4"
      }
    },
    {
      "cell_type": "code",
      "source": [
        "df.describe()"
      ],
      "metadata": {
        "colab": {
          "base_uri": "https://localhost:8080/",
          "height": 300
        },
        "id": "9LQk_vtYfVjr",
        "outputId": "3decd9ec-2132-4f13-ed5c-fe8cc4d732df"
      },
      "execution_count": null,
      "outputs": [
        {
          "output_type": "execute_result",
          "data": {
            "text/plain": [
              "            tv_ads    radio_ads  newspaper_ads  digital_marketing  \\\n",
              "count  4985.000000  4982.000000    4977.000000        4974.000000   \n",
              "mean    553.657446   271.148836     165.331063        1114.553668   \n",
              "std     309.177632   128.558088      78.497351         518.141180   \n",
              "min     100.010471    50.023772      30.042591         200.454418   \n",
              "25%     321.262698   161.161510      96.729169         674.282712   \n",
              "50%     550.361031   268.687208     163.928071        1124.985865   \n",
              "75%     774.432493   380.026295     235.335541        1552.196991   \n",
              "max    6735.856228   499.777335     299.947389        1999.864688   \n",
              "\n",
              "              sales  \n",
              "count   4982.000000  \n",
              "mean    7758.601336  \n",
              "std     2788.705500  \n",
              "min     1043.825466  \n",
              "25%     5483.593562  \n",
              "50%     7836.046852  \n",
              "75%     9986.817587  \n",
              "max    14322.724102  "
            ],
            "text/html": [
              "\n",
              "  <div id=\"df-0a430168-a1ce-4d28-b389-e8bf41f903e3\" class=\"colab-df-container\">\n",
              "    <div>\n",
              "<style scoped>\n",
              "    .dataframe tbody tr th:only-of-type {\n",
              "        vertical-align: middle;\n",
              "    }\n",
              "\n",
              "    .dataframe tbody tr th {\n",
              "        vertical-align: top;\n",
              "    }\n",
              "\n",
              "    .dataframe thead th {\n",
              "        text-align: right;\n",
              "    }\n",
              "</style>\n",
              "<table border=\"1\" class=\"dataframe\">\n",
              "  <thead>\n",
              "    <tr style=\"text-align: right;\">\n",
              "      <th></th>\n",
              "      <th>tv_ads</th>\n",
              "      <th>radio_ads</th>\n",
              "      <th>newspaper_ads</th>\n",
              "      <th>digital_marketing</th>\n",
              "      <th>sales</th>\n",
              "    </tr>\n",
              "  </thead>\n",
              "  <tbody>\n",
              "    <tr>\n",
              "      <th>count</th>\n",
              "      <td>4985.000000</td>\n",
              "      <td>4982.000000</td>\n",
              "      <td>4977.000000</td>\n",
              "      <td>4974.000000</td>\n",
              "      <td>4982.000000</td>\n",
              "    </tr>\n",
              "    <tr>\n",
              "      <th>mean</th>\n",
              "      <td>553.657446</td>\n",
              "      <td>271.148836</td>\n",
              "      <td>165.331063</td>\n",
              "      <td>1114.553668</td>\n",
              "      <td>7758.601336</td>\n",
              "    </tr>\n",
              "    <tr>\n",
              "      <th>std</th>\n",
              "      <td>309.177632</td>\n",
              "      <td>128.558088</td>\n",
              "      <td>78.497351</td>\n",
              "      <td>518.141180</td>\n",
              "      <td>2788.705500</td>\n",
              "    </tr>\n",
              "    <tr>\n",
              "      <th>min</th>\n",
              "      <td>100.010471</td>\n",
              "      <td>50.023772</td>\n",
              "      <td>30.042591</td>\n",
              "      <td>200.454418</td>\n",
              "      <td>1043.825466</td>\n",
              "    </tr>\n",
              "    <tr>\n",
              "      <th>25%</th>\n",
              "      <td>321.262698</td>\n",
              "      <td>161.161510</td>\n",
              "      <td>96.729169</td>\n",
              "      <td>674.282712</td>\n",
              "      <td>5483.593562</td>\n",
              "    </tr>\n",
              "    <tr>\n",
              "      <th>50%</th>\n",
              "      <td>550.361031</td>\n",
              "      <td>268.687208</td>\n",
              "      <td>163.928071</td>\n",
              "      <td>1124.985865</td>\n",
              "      <td>7836.046852</td>\n",
              "    </tr>\n",
              "    <tr>\n",
              "      <th>75%</th>\n",
              "      <td>774.432493</td>\n",
              "      <td>380.026295</td>\n",
              "      <td>235.335541</td>\n",
              "      <td>1552.196991</td>\n",
              "      <td>9986.817587</td>\n",
              "    </tr>\n",
              "    <tr>\n",
              "      <th>max</th>\n",
              "      <td>6735.856228</td>\n",
              "      <td>499.777335</td>\n",
              "      <td>299.947389</td>\n",
              "      <td>1999.864688</td>\n",
              "      <td>14322.724102</td>\n",
              "    </tr>\n",
              "  </tbody>\n",
              "</table>\n",
              "</div>\n",
              "    <div class=\"colab-df-buttons\">\n",
              "\n",
              "  <div class=\"colab-df-container\">\n",
              "    <button class=\"colab-df-convert\" onclick=\"convertToInteractive('df-0a430168-a1ce-4d28-b389-e8bf41f903e3')\"\n",
              "            title=\"Convert this dataframe to an interactive table.\"\n",
              "            style=\"display:none;\">\n",
              "\n",
              "  <svg xmlns=\"http://www.w3.org/2000/svg\" height=\"24px\" viewBox=\"0 -960 960 960\">\n",
              "    <path d=\"M120-120v-720h720v720H120Zm60-500h600v-160H180v160Zm220 220h160v-160H400v160Zm0 220h160v-160H400v160ZM180-400h160v-160H180v160Zm440 0h160v-160H620v160ZM180-180h160v-160H180v160Zm440 0h160v-160H620v160Z\"/>\n",
              "  </svg>\n",
              "    </button>\n",
              "\n",
              "  <style>\n",
              "    .colab-df-container {\n",
              "      display:flex;\n",
              "      gap: 12px;\n",
              "    }\n",
              "\n",
              "    .colab-df-convert {\n",
              "      background-color: #E8F0FE;\n",
              "      border: none;\n",
              "      border-radius: 50%;\n",
              "      cursor: pointer;\n",
              "      display: none;\n",
              "      fill: #1967D2;\n",
              "      height: 32px;\n",
              "      padding: 0 0 0 0;\n",
              "      width: 32px;\n",
              "    }\n",
              "\n",
              "    .colab-df-convert:hover {\n",
              "      background-color: #E2EBFA;\n",
              "      box-shadow: 0px 1px 2px rgba(60, 64, 67, 0.3), 0px 1px 3px 1px rgba(60, 64, 67, 0.15);\n",
              "      fill: #174EA6;\n",
              "    }\n",
              "\n",
              "    .colab-df-buttons div {\n",
              "      margin-bottom: 4px;\n",
              "    }\n",
              "\n",
              "    [theme=dark] .colab-df-convert {\n",
              "      background-color: #3B4455;\n",
              "      fill: #D2E3FC;\n",
              "    }\n",
              "\n",
              "    [theme=dark] .colab-df-convert:hover {\n",
              "      background-color: #434B5C;\n",
              "      box-shadow: 0px 1px 3px 1px rgba(0, 0, 0, 0.15);\n",
              "      filter: drop-shadow(0px 1px 2px rgba(0, 0, 0, 0.3));\n",
              "      fill: #FFFFFF;\n",
              "    }\n",
              "  </style>\n",
              "\n",
              "    <script>\n",
              "      const buttonEl =\n",
              "        document.querySelector('#df-0a430168-a1ce-4d28-b389-e8bf41f903e3 button.colab-df-convert');\n",
              "      buttonEl.style.display =\n",
              "        google.colab.kernel.accessAllowed ? 'block' : 'none';\n",
              "\n",
              "      async function convertToInteractive(key) {\n",
              "        const element = document.querySelector('#df-0a430168-a1ce-4d28-b389-e8bf41f903e3');\n",
              "        const dataTable =\n",
              "          await google.colab.kernel.invokeFunction('convertToInteractive',\n",
              "                                                    [key], {});\n",
              "        if (!dataTable) return;\n",
              "\n",
              "        const docLinkHtml = 'Like what you see? Visit the ' +\n",
              "          '<a target=\"_blank\" href=https://colab.research.google.com/notebooks/data_table.ipynb>data table notebook</a>'\n",
              "          + ' to learn more about interactive tables.';\n",
              "        element.innerHTML = '';\n",
              "        dataTable['output_type'] = 'display_data';\n",
              "        await google.colab.output.renderOutput(dataTable, element);\n",
              "        const docLink = document.createElement('div');\n",
              "        docLink.innerHTML = docLinkHtml;\n",
              "        element.appendChild(docLink);\n",
              "      }\n",
              "    </script>\n",
              "  </div>\n",
              "\n",
              "\n",
              "    <div id=\"df-97b7a9f8-2cff-495e-b115-5a5ec2ec6aa4\">\n",
              "      <button class=\"colab-df-quickchart\" onclick=\"quickchart('df-97b7a9f8-2cff-495e-b115-5a5ec2ec6aa4')\"\n",
              "                title=\"Suggest charts\"\n",
              "                style=\"display:none;\">\n",
              "\n",
              "<svg xmlns=\"http://www.w3.org/2000/svg\" height=\"24px\"viewBox=\"0 0 24 24\"\n",
              "     width=\"24px\">\n",
              "    <g>\n",
              "        <path d=\"M19 3H5c-1.1 0-2 .9-2 2v14c0 1.1.9 2 2 2h14c1.1 0 2-.9 2-2V5c0-1.1-.9-2-2-2zM9 17H7v-7h2v7zm4 0h-2V7h2v10zm4 0h-2v-4h2v4z\"/>\n",
              "    </g>\n",
              "</svg>\n",
              "      </button>\n",
              "\n",
              "<style>\n",
              "  .colab-df-quickchart {\n",
              "      --bg-color: #E8F0FE;\n",
              "      --fill-color: #1967D2;\n",
              "      --hover-bg-color: #E2EBFA;\n",
              "      --hover-fill-color: #174EA6;\n",
              "      --disabled-fill-color: #AAA;\n",
              "      --disabled-bg-color: #DDD;\n",
              "  }\n",
              "\n",
              "  [theme=dark] .colab-df-quickchart {\n",
              "      --bg-color: #3B4455;\n",
              "      --fill-color: #D2E3FC;\n",
              "      --hover-bg-color: #434B5C;\n",
              "      --hover-fill-color: #FFFFFF;\n",
              "      --disabled-bg-color: #3B4455;\n",
              "      --disabled-fill-color: #666;\n",
              "  }\n",
              "\n",
              "  .colab-df-quickchart {\n",
              "    background-color: var(--bg-color);\n",
              "    border: none;\n",
              "    border-radius: 50%;\n",
              "    cursor: pointer;\n",
              "    display: none;\n",
              "    fill: var(--fill-color);\n",
              "    height: 32px;\n",
              "    padding: 0;\n",
              "    width: 32px;\n",
              "  }\n",
              "\n",
              "  .colab-df-quickchart:hover {\n",
              "    background-color: var(--hover-bg-color);\n",
              "    box-shadow: 0 1px 2px rgba(60, 64, 67, 0.3), 0 1px 3px 1px rgba(60, 64, 67, 0.15);\n",
              "    fill: var(--button-hover-fill-color);\n",
              "  }\n",
              "\n",
              "  .colab-df-quickchart-complete:disabled,\n",
              "  .colab-df-quickchart-complete:disabled:hover {\n",
              "    background-color: var(--disabled-bg-color);\n",
              "    fill: var(--disabled-fill-color);\n",
              "    box-shadow: none;\n",
              "  }\n",
              "\n",
              "  .colab-df-spinner {\n",
              "    border: 2px solid var(--fill-color);\n",
              "    border-color: transparent;\n",
              "    border-bottom-color: var(--fill-color);\n",
              "    animation:\n",
              "      spin 1s steps(1) infinite;\n",
              "  }\n",
              "\n",
              "  @keyframes spin {\n",
              "    0% {\n",
              "      border-color: transparent;\n",
              "      border-bottom-color: var(--fill-color);\n",
              "      border-left-color: var(--fill-color);\n",
              "    }\n",
              "    20% {\n",
              "      border-color: transparent;\n",
              "      border-left-color: var(--fill-color);\n",
              "      border-top-color: var(--fill-color);\n",
              "    }\n",
              "    30% {\n",
              "      border-color: transparent;\n",
              "      border-left-color: var(--fill-color);\n",
              "      border-top-color: var(--fill-color);\n",
              "      border-right-color: var(--fill-color);\n",
              "    }\n",
              "    40% {\n",
              "      border-color: transparent;\n",
              "      border-right-color: var(--fill-color);\n",
              "      border-top-color: var(--fill-color);\n",
              "    }\n",
              "    60% {\n",
              "      border-color: transparent;\n",
              "      border-right-color: var(--fill-color);\n",
              "    }\n",
              "    80% {\n",
              "      border-color: transparent;\n",
              "      border-right-color: var(--fill-color);\n",
              "      border-bottom-color: var(--fill-color);\n",
              "    }\n",
              "    90% {\n",
              "      border-color: transparent;\n",
              "      border-bottom-color: var(--fill-color);\n",
              "    }\n",
              "  }\n",
              "</style>\n",
              "\n",
              "      <script>\n",
              "        async function quickchart(key) {\n",
              "          const quickchartButtonEl =\n",
              "            document.querySelector('#' + key + ' button');\n",
              "          quickchartButtonEl.disabled = true;  // To prevent multiple clicks.\n",
              "          quickchartButtonEl.classList.add('colab-df-spinner');\n",
              "          try {\n",
              "            const charts = await google.colab.kernel.invokeFunction(\n",
              "                'suggestCharts', [key], {});\n",
              "          } catch (error) {\n",
              "            console.error('Error during call to suggestCharts:', error);\n",
              "          }\n",
              "          quickchartButtonEl.classList.remove('colab-df-spinner');\n",
              "          quickchartButtonEl.classList.add('colab-df-quickchart-complete');\n",
              "        }\n",
              "        (() => {\n",
              "          let quickchartButtonEl =\n",
              "            document.querySelector('#df-97b7a9f8-2cff-495e-b115-5a5ec2ec6aa4 button');\n",
              "          quickchartButtonEl.style.display =\n",
              "            google.colab.kernel.accessAllowed ? 'block' : 'none';\n",
              "        })();\n",
              "      </script>\n",
              "    </div>\n",
              "\n",
              "    </div>\n",
              "  </div>\n"
            ],
            "application/vnd.google.colaboratory.intrinsic+json": {
              "type": "dataframe",
              "summary": "{\n  \"name\": \"df\",\n  \"rows\": 8,\n  \"fields\": [\n    {\n      \"column\": \"tv_ads\",\n      \"properties\": {\n        \"dtype\": \"number\",\n        \"std\": 2562.7056216453825,\n        \"min\": 100.01047127982952,\n        \"max\": 6735.856227720255,\n        \"num_unique_values\": 8,\n        \"samples\": [\n          553.6574461972913,\n          550.361031139181,\n          4985.0\n        ],\n        \"semantic_type\": \"\",\n        \"description\": \"\"\n      }\n    },\n    {\n      \"column\": \"radio_ads\",\n      \"properties\": {\n        \"dtype\": \"number\",\n        \"std\": 1678.6243432053054,\n        \"min\": 50.02377211953356,\n        \"max\": 4982.0,\n        \"num_unique_values\": 8,\n        \"samples\": [\n          271.1488364645729,\n          268.68720832076616,\n          4982.0\n        ],\n        \"semantic_type\": \"\",\n        \"description\": \"\"\n      }\n    },\n    {\n      \"column\": \"newspaper_ads\",\n      \"properties\": {\n        \"dtype\": \"number\",\n        \"std\": 1707.797967124283,\n        \"min\": 30.042591036075315,\n        \"max\": 4977.0,\n        \"num_unique_values\": 8,\n        \"samples\": [\n          165.33106252875726,\n          163.92807144845696,\n          4977.0\n        ],\n        \"semantic_type\": \"\",\n        \"description\": \"\"\n      }\n    },\n    {\n      \"column\": \"digital_marketing\",\n      \"properties\": {\n        \"dtype\": \"number\",\n        \"std\": 1509.1153861255598,\n        \"min\": 200.45441808301177,\n        \"max\": 4974.0,\n        \"num_unique_values\": 8,\n        \"samples\": [\n          1114.553667632105,\n          1124.9858646369157,\n          4974.0\n        ],\n        \"semantic_type\": \"\",\n        \"description\": \"\"\n      }\n    },\n    {\n      \"column\": \"sales\",\n      \"properties\": {\n        \"dtype\": \"number\",\n        \"std\": 4191.772343206078,\n        \"min\": 1043.8254658034868,\n        \"max\": 14322.724101752456,\n        \"num_unique_values\": 8,\n        \"samples\": [\n          7758.601335585744,\n          7836.04685219943,\n          4982.0\n        ],\n        \"semantic_type\": \"\",\n        \"description\": \"\"\n      }\n    }\n  ]\n}"
            }
          },
          "metadata": {},
          "execution_count": 9
        }
      ]
    },
    {
      "cell_type": "markdown",
      "source": [
        "**General Conclusions:**\n",
        "The dataset contains a small number of missing values across all columns. Overall, the distributions of the columns appear to be relatively symmetric. **The sales** column shows a slight left skew, with a mean of **7758.6** and a median of **7836.0**. However, the maximum value of **14,322** suggests the potential presence of outliers in sales. **The digital_marketing** column exhibits a relatively wide range, which may also indicate the existence of outliers, although the median (1124.98) is close to the mean (1114.55)"
      ],
      "metadata": {
        "id": "rMkrIAaH0xBW"
      }
    },
    {
      "cell_type": "markdown",
      "source": [
        "### **📦 Handling Missing Values**"
      ],
      "metadata": {
        "id": "mrUuE_7EgO63"
      }
    },
    {
      "cell_type": "markdown",
      "source": [
        "Choose any approach how to handle missing values and apply it."
      ],
      "metadata": {
        "id": "MPRdQgh4uaR7"
      }
    },
    {
      "cell_type": "code",
      "source": [
        "df.fillna({'tv_ads': df['tv_ads'].median()}, inplace=True)\n",
        "df.fillna({'radio_ads': df['radio_ads'].mean()}, inplace=True)\n",
        "df.fillna({'newspaper_ads': df['newspaper_ads'].mean()}, inplace=True)\n",
        "df.fillna({'digital_marketing': df['digital_marketing'].median()}, inplace=True)\n",
        "df.fillna({'sales': df['sales'].mean()}, inplace=True)\n",
        "df.info()"
      ],
      "metadata": {
        "colab": {
          "base_uri": "https://localhost:8080/"
        },
        "id": "E9EVtDIdgo7Q",
        "outputId": "1cf92f29-46fc-42c5-9051-0686f790cb38"
      },
      "execution_count": null,
      "outputs": [
        {
          "output_type": "stream",
          "name": "stdout",
          "text": [
            "<class 'pandas.core.frame.DataFrame'>\n",
            "RangeIndex: 5000 entries, 0 to 4999\n",
            "Data columns (total 5 columns):\n",
            " #   Column             Non-Null Count  Dtype  \n",
            "---  ------             --------------  -----  \n",
            " 0   tv_ads             5000 non-null   float64\n",
            " 1   radio_ads          5000 non-null   float64\n",
            " 2   newspaper_ads      5000 non-null   float64\n",
            " 3   digital_marketing  5000 non-null   float64\n",
            " 4   sales              5000 non-null   float64\n",
            "dtypes: float64(5)\n",
            "memory usage: 195.4 KB\n"
          ]
        }
      ]
    },
    {
      "cell_type": "markdown",
      "source": [
        "### **📦 Handling Outliers**"
      ],
      "metadata": {
        "id": "2Scr_Cygk5wc"
      }
    },
    {
      "cell_type": "markdown",
      "source": [
        "Let's remove outliers for the sales"
      ],
      "metadata": {
        "id": "Zzqpg5b8mcdX"
      }
    },
    {
      "cell_type": "code",
      "source": [
        "Q1 = df['sales'].quantile(q=0.25)\n",
        "Q3 = df['sales'].quantile(q=0.75)\n",
        "\n",
        "print(Q1, Q3)\n",
        "\n",
        "IQR = Q3 - Q1\n",
        "print(IQR)\n",
        "\n",
        "lower_bound = Q1 - 1.5 * IQR\n",
        "upper_bound = Q3 + 1.5 * IQR\n",
        "\n",
        "print(lower_bound, upper_bound)\n",
        "\n",
        "df_clean = df[(df['sales'] >= lower_bound) & (df['sales'] <= upper_bound)]"
      ],
      "metadata": {
        "colab": {
          "base_uri": "https://localhost:8080/"
        },
        "id": "ddqt9NqEmvzd",
        "outputId": "8915e8a5-e7c7-4059-93aa-f8edc9036966"
      },
      "execution_count": null,
      "outputs": [
        {
          "output_type": "stream",
          "name": "stdout",
          "text": [
            "676.8649334742672 1551.4610606120063\n",
            "874.5961271377391\n",
            "-635.0292572323415 2863.355251318615\n"
          ]
        }
      ]
    },
    {
      "cell_type": "code",
      "source": [
        "df_clean.info()"
      ],
      "metadata": {
        "colab": {
          "base_uri": "https://localhost:8080/"
        },
        "id": "3m_lRAOaoP-I",
        "outputId": "ce0d465e-f018-4f6d-a0fe-cd8af0348427"
      },
      "execution_count": null,
      "outputs": [
        {
          "output_type": "stream",
          "name": "stdout",
          "text": [
            "<class 'pandas.core.frame.DataFrame'>\n",
            "RangeIndex: 5000 entries, 0 to 4999\n",
            "Data columns (total 5 columns):\n",
            " #   Column             Non-Null Count  Dtype  \n",
            "---  ------             --------------  -----  \n",
            " 0   tv_ads             5000 non-null   float64\n",
            " 1   radio_ads          5000 non-null   float64\n",
            " 2   newspaper_ads      5000 non-null   float64\n",
            " 3   digital_marketing  5000 non-null   float64\n",
            " 4   sales              5000 non-null   float64\n",
            "dtypes: float64(5)\n",
            "memory usage: 195.4 KB\n"
          ]
        }
      ]
    },
    {
      "cell_type": "markdown",
      "source": [
        "Let's remove outliers for the digital_marketing"
      ],
      "metadata": {
        "id": "wjyY588zp133"
      }
    },
    {
      "cell_type": "code",
      "source": [
        "Q1 = df['digital_marketing'].quantile(q=0.25)\n",
        "Q3 = df['digital_marketing'].quantile(q=0.75)\n",
        "\n",
        "print(Q1, Q3)\n",
        "\n",
        "IQR = Q3 - Q1\n",
        "print(IQR)\n",
        "\n",
        "lower_bound = Q1 - 1.5 * IQR\n",
        "upper_bound = Q3 + 1.5 * IQR\n",
        "\n",
        "print(lower_bound, upper_bound)\n",
        "\n",
        "df_clean = df[(df['digital_marketing'] >= lower_bound) & (df['digital_marketing'] <= upper_bound)]"
      ],
      "metadata": {
        "colab": {
          "base_uri": "https://localhost:8080/"
        },
        "outputId": "8915e8a5-e7c7-4059-93aa-f8edc9036966",
        "id": "lPJ_qSyNp134"
      },
      "execution_count": null,
      "outputs": [
        {
          "output_type": "stream",
          "name": "stdout",
          "text": [
            "676.8649334742672 1551.4610606120063\n",
            "874.5961271377391\n",
            "-635.0292572323415 2863.355251318615\n"
          ]
        }
      ]
    },
    {
      "cell_type": "code",
      "source": [
        "df_clean.info()"
      ],
      "metadata": {
        "outputId": "ce0d465e-f018-4f6d-a0fe-cd8af0348427",
        "colab": {
          "base_uri": "https://localhost:8080/"
        },
        "id": "Bh1d9W4kp136"
      },
      "execution_count": null,
      "outputs": [
        {
          "output_type": "stream",
          "name": "stdout",
          "text": [
            "<class 'pandas.core.frame.DataFrame'>\n",
            "RangeIndex: 5000 entries, 0 to 4999\n",
            "Data columns (total 5 columns):\n",
            " #   Column             Non-Null Count  Dtype  \n",
            "---  ------             --------------  -----  \n",
            " 0   tv_ads             5000 non-null   float64\n",
            " 1   radio_ads          5000 non-null   float64\n",
            " 2   newspaper_ads      5000 non-null   float64\n",
            " 3   digital_marketing  5000 non-null   float64\n",
            " 4   sales              5000 non-null   float64\n",
            "dtypes: float64(5)\n",
            "memory usage: 195.4 KB\n"
          ]
        }
      ]
    },
    {
      "cell_type": "markdown",
      "source": [
        "**General Conclusions:**\n",
        "After trying to remove outliers in the sales and digital_marketing columns, we found that it wasn’t really necessary."
      ],
      "metadata": {
        "id": "AvVnjNR-pm_s"
      }
    },
    {
      "cell_type": "markdown",
      "source": [
        "## **3️⃣  Calculating Correlations**"
      ],
      "metadata": {
        "id": "gbPwoRzszHow"
      }
    },
    {
      "cell_type": "markdown",
      "source": [
        "**Objective:** Calculate and interpret correlations between variables in the dataset."
      ],
      "metadata": {
        "id": "9L_1bpsUzRBP"
      }
    },
    {
      "cell_type": "markdown",
      "source": [
        "### **🧮 Calculations**"
      ],
      "metadata": {
        "id": "3dveF6KY02mV"
      }
    },
    {
      "cell_type": "markdown",
      "source": [
        "Finally, let's calculate correlations in the dataset and write insights and conclusion.\n"
      ],
      "metadata": {
        "id": "t49dSZC2zdTZ"
      }
    },
    {
      "cell_type": "code",
      "source": [
        "matrix_columns = df.corr()\n",
        "matrix_columns"
      ],
      "metadata": {
        "id": "UBVsS8AtzcP2",
        "colab": {
          "base_uri": "https://localhost:8080/",
          "height": 206
        },
        "outputId": "e6104d63-a69d-4d62-ef6d-7ac307f45e65"
      },
      "execution_count": null,
      "outputs": [
        {
          "output_type": "execute_result",
          "data": {
            "text/plain": [
              "                     tv_ads  radio_ads  newspaper_ads  digital_marketing  \\\n",
              "tv_ads             1.000000   0.000727       0.004914           0.023060   \n",
              "radio_ads          0.000727   1.000000      -0.007872          -0.002213   \n",
              "newspaper_ads      0.004914  -0.007872       1.000000          -0.001604   \n",
              "digital_marketing  0.023060  -0.002213      -0.001604           1.000000   \n",
              "sales              0.259630   0.090883      -0.002868           0.934212   \n",
              "\n",
              "                      sales  \n",
              "tv_ads             0.259630  \n",
              "radio_ads          0.090883  \n",
              "newspaper_ads     -0.002868  \n",
              "digital_marketing  0.934212  \n",
              "sales              1.000000  "
            ],
            "text/html": [
              "\n",
              "  <div id=\"df-22f23038-c5ba-4d28-8065-a12c6ccdf925\" class=\"colab-df-container\">\n",
              "    <div>\n",
              "<style scoped>\n",
              "    .dataframe tbody tr th:only-of-type {\n",
              "        vertical-align: middle;\n",
              "    }\n",
              "\n",
              "    .dataframe tbody tr th {\n",
              "        vertical-align: top;\n",
              "    }\n",
              "\n",
              "    .dataframe thead th {\n",
              "        text-align: right;\n",
              "    }\n",
              "</style>\n",
              "<table border=\"1\" class=\"dataframe\">\n",
              "  <thead>\n",
              "    <tr style=\"text-align: right;\">\n",
              "      <th></th>\n",
              "      <th>tv_ads</th>\n",
              "      <th>radio_ads</th>\n",
              "      <th>newspaper_ads</th>\n",
              "      <th>digital_marketing</th>\n",
              "      <th>sales</th>\n",
              "    </tr>\n",
              "  </thead>\n",
              "  <tbody>\n",
              "    <tr>\n",
              "      <th>tv_ads</th>\n",
              "      <td>1.000000</td>\n",
              "      <td>0.000727</td>\n",
              "      <td>0.004914</td>\n",
              "      <td>0.023060</td>\n",
              "      <td>0.259630</td>\n",
              "    </tr>\n",
              "    <tr>\n",
              "      <th>radio_ads</th>\n",
              "      <td>0.000727</td>\n",
              "      <td>1.000000</td>\n",
              "      <td>-0.007872</td>\n",
              "      <td>-0.002213</td>\n",
              "      <td>0.090883</td>\n",
              "    </tr>\n",
              "    <tr>\n",
              "      <th>newspaper_ads</th>\n",
              "      <td>0.004914</td>\n",
              "      <td>-0.007872</td>\n",
              "      <td>1.000000</td>\n",
              "      <td>-0.001604</td>\n",
              "      <td>-0.002868</td>\n",
              "    </tr>\n",
              "    <tr>\n",
              "      <th>digital_marketing</th>\n",
              "      <td>0.023060</td>\n",
              "      <td>-0.002213</td>\n",
              "      <td>-0.001604</td>\n",
              "      <td>1.000000</td>\n",
              "      <td>0.934212</td>\n",
              "    </tr>\n",
              "    <tr>\n",
              "      <th>sales</th>\n",
              "      <td>0.259630</td>\n",
              "      <td>0.090883</td>\n",
              "      <td>-0.002868</td>\n",
              "      <td>0.934212</td>\n",
              "      <td>1.000000</td>\n",
              "    </tr>\n",
              "  </tbody>\n",
              "</table>\n",
              "</div>\n",
              "    <div class=\"colab-df-buttons\">\n",
              "\n",
              "  <div class=\"colab-df-container\">\n",
              "    <button class=\"colab-df-convert\" onclick=\"convertToInteractive('df-22f23038-c5ba-4d28-8065-a12c6ccdf925')\"\n",
              "            title=\"Convert this dataframe to an interactive table.\"\n",
              "            style=\"display:none;\">\n",
              "\n",
              "  <svg xmlns=\"http://www.w3.org/2000/svg\" height=\"24px\" viewBox=\"0 -960 960 960\">\n",
              "    <path d=\"M120-120v-720h720v720H120Zm60-500h600v-160H180v160Zm220 220h160v-160H400v160Zm0 220h160v-160H400v160ZM180-400h160v-160H180v160Zm440 0h160v-160H620v160ZM180-180h160v-160H180v160Zm440 0h160v-160H620v160Z\"/>\n",
              "  </svg>\n",
              "    </button>\n",
              "\n",
              "  <style>\n",
              "    .colab-df-container {\n",
              "      display:flex;\n",
              "      gap: 12px;\n",
              "    }\n",
              "\n",
              "    .colab-df-convert {\n",
              "      background-color: #E8F0FE;\n",
              "      border: none;\n",
              "      border-radius: 50%;\n",
              "      cursor: pointer;\n",
              "      display: none;\n",
              "      fill: #1967D2;\n",
              "      height: 32px;\n",
              "      padding: 0 0 0 0;\n",
              "      width: 32px;\n",
              "    }\n",
              "\n",
              "    .colab-df-convert:hover {\n",
              "      background-color: #E2EBFA;\n",
              "      box-shadow: 0px 1px 2px rgba(60, 64, 67, 0.3), 0px 1px 3px 1px rgba(60, 64, 67, 0.15);\n",
              "      fill: #174EA6;\n",
              "    }\n",
              "\n",
              "    .colab-df-buttons div {\n",
              "      margin-bottom: 4px;\n",
              "    }\n",
              "\n",
              "    [theme=dark] .colab-df-convert {\n",
              "      background-color: #3B4455;\n",
              "      fill: #D2E3FC;\n",
              "    }\n",
              "\n",
              "    [theme=dark] .colab-df-convert:hover {\n",
              "      background-color: #434B5C;\n",
              "      box-shadow: 0px 1px 3px 1px rgba(0, 0, 0, 0.15);\n",
              "      filter: drop-shadow(0px 1px 2px rgba(0, 0, 0, 0.3));\n",
              "      fill: #FFFFFF;\n",
              "    }\n",
              "  </style>\n",
              "\n",
              "    <script>\n",
              "      const buttonEl =\n",
              "        document.querySelector('#df-22f23038-c5ba-4d28-8065-a12c6ccdf925 button.colab-df-convert');\n",
              "      buttonEl.style.display =\n",
              "        google.colab.kernel.accessAllowed ? 'block' : 'none';\n",
              "\n",
              "      async function convertToInteractive(key) {\n",
              "        const element = document.querySelector('#df-22f23038-c5ba-4d28-8065-a12c6ccdf925');\n",
              "        const dataTable =\n",
              "          await google.colab.kernel.invokeFunction('convertToInteractive',\n",
              "                                                    [key], {});\n",
              "        if (!dataTable) return;\n",
              "\n",
              "        const docLinkHtml = 'Like what you see? Visit the ' +\n",
              "          '<a target=\"_blank\" href=https://colab.research.google.com/notebooks/data_table.ipynb>data table notebook</a>'\n",
              "          + ' to learn more about interactive tables.';\n",
              "        element.innerHTML = '';\n",
              "        dataTable['output_type'] = 'display_data';\n",
              "        await google.colab.output.renderOutput(dataTable, element);\n",
              "        const docLink = document.createElement('div');\n",
              "        docLink.innerHTML = docLinkHtml;\n",
              "        element.appendChild(docLink);\n",
              "      }\n",
              "    </script>\n",
              "  </div>\n",
              "\n",
              "\n",
              "    <div id=\"df-3f2d8a39-fae8-4741-b46b-3e52065f1db7\">\n",
              "      <button class=\"colab-df-quickchart\" onclick=\"quickchart('df-3f2d8a39-fae8-4741-b46b-3e52065f1db7')\"\n",
              "                title=\"Suggest charts\"\n",
              "                style=\"display:none;\">\n",
              "\n",
              "<svg xmlns=\"http://www.w3.org/2000/svg\" height=\"24px\"viewBox=\"0 0 24 24\"\n",
              "     width=\"24px\">\n",
              "    <g>\n",
              "        <path d=\"M19 3H5c-1.1 0-2 .9-2 2v14c0 1.1.9 2 2 2h14c1.1 0 2-.9 2-2V5c0-1.1-.9-2-2-2zM9 17H7v-7h2v7zm4 0h-2V7h2v10zm4 0h-2v-4h2v4z\"/>\n",
              "    </g>\n",
              "</svg>\n",
              "      </button>\n",
              "\n",
              "<style>\n",
              "  .colab-df-quickchart {\n",
              "      --bg-color: #E8F0FE;\n",
              "      --fill-color: #1967D2;\n",
              "      --hover-bg-color: #E2EBFA;\n",
              "      --hover-fill-color: #174EA6;\n",
              "      --disabled-fill-color: #AAA;\n",
              "      --disabled-bg-color: #DDD;\n",
              "  }\n",
              "\n",
              "  [theme=dark] .colab-df-quickchart {\n",
              "      --bg-color: #3B4455;\n",
              "      --fill-color: #D2E3FC;\n",
              "      --hover-bg-color: #434B5C;\n",
              "      --hover-fill-color: #FFFFFF;\n",
              "      --disabled-bg-color: #3B4455;\n",
              "      --disabled-fill-color: #666;\n",
              "  }\n",
              "\n",
              "  .colab-df-quickchart {\n",
              "    background-color: var(--bg-color);\n",
              "    border: none;\n",
              "    border-radius: 50%;\n",
              "    cursor: pointer;\n",
              "    display: none;\n",
              "    fill: var(--fill-color);\n",
              "    height: 32px;\n",
              "    padding: 0;\n",
              "    width: 32px;\n",
              "  }\n",
              "\n",
              "  .colab-df-quickchart:hover {\n",
              "    background-color: var(--hover-bg-color);\n",
              "    box-shadow: 0 1px 2px rgba(60, 64, 67, 0.3), 0 1px 3px 1px rgba(60, 64, 67, 0.15);\n",
              "    fill: var(--button-hover-fill-color);\n",
              "  }\n",
              "\n",
              "  .colab-df-quickchart-complete:disabled,\n",
              "  .colab-df-quickchart-complete:disabled:hover {\n",
              "    background-color: var(--disabled-bg-color);\n",
              "    fill: var(--disabled-fill-color);\n",
              "    box-shadow: none;\n",
              "  }\n",
              "\n",
              "  .colab-df-spinner {\n",
              "    border: 2px solid var(--fill-color);\n",
              "    border-color: transparent;\n",
              "    border-bottom-color: var(--fill-color);\n",
              "    animation:\n",
              "      spin 1s steps(1) infinite;\n",
              "  }\n",
              "\n",
              "  @keyframes spin {\n",
              "    0% {\n",
              "      border-color: transparent;\n",
              "      border-bottom-color: var(--fill-color);\n",
              "      border-left-color: var(--fill-color);\n",
              "    }\n",
              "    20% {\n",
              "      border-color: transparent;\n",
              "      border-left-color: var(--fill-color);\n",
              "      border-top-color: var(--fill-color);\n",
              "    }\n",
              "    30% {\n",
              "      border-color: transparent;\n",
              "      border-left-color: var(--fill-color);\n",
              "      border-top-color: var(--fill-color);\n",
              "      border-right-color: var(--fill-color);\n",
              "    }\n",
              "    40% {\n",
              "      border-color: transparent;\n",
              "      border-right-color: var(--fill-color);\n",
              "      border-top-color: var(--fill-color);\n",
              "    }\n",
              "    60% {\n",
              "      border-color: transparent;\n",
              "      border-right-color: var(--fill-color);\n",
              "    }\n",
              "    80% {\n",
              "      border-color: transparent;\n",
              "      border-right-color: var(--fill-color);\n",
              "      border-bottom-color: var(--fill-color);\n",
              "    }\n",
              "    90% {\n",
              "      border-color: transparent;\n",
              "      border-bottom-color: var(--fill-color);\n",
              "    }\n",
              "  }\n",
              "</style>\n",
              "\n",
              "      <script>\n",
              "        async function quickchart(key) {\n",
              "          const quickchartButtonEl =\n",
              "            document.querySelector('#' + key + ' button');\n",
              "          quickchartButtonEl.disabled = true;  // To prevent multiple clicks.\n",
              "          quickchartButtonEl.classList.add('colab-df-spinner');\n",
              "          try {\n",
              "            const charts = await google.colab.kernel.invokeFunction(\n",
              "                'suggestCharts', [key], {});\n",
              "          } catch (error) {\n",
              "            console.error('Error during call to suggestCharts:', error);\n",
              "          }\n",
              "          quickchartButtonEl.classList.remove('colab-df-spinner');\n",
              "          quickchartButtonEl.classList.add('colab-df-quickchart-complete');\n",
              "        }\n",
              "        (() => {\n",
              "          let quickchartButtonEl =\n",
              "            document.querySelector('#df-3f2d8a39-fae8-4741-b46b-3e52065f1db7 button');\n",
              "          quickchartButtonEl.style.display =\n",
              "            google.colab.kernel.accessAllowed ? 'block' : 'none';\n",
              "        })();\n",
              "      </script>\n",
              "    </div>\n",
              "\n",
              "  <div id=\"id_03be668f-416b-42a3-9758-641c19192556\">\n",
              "    <style>\n",
              "      .colab-df-generate {\n",
              "        background-color: #E8F0FE;\n",
              "        border: none;\n",
              "        border-radius: 50%;\n",
              "        cursor: pointer;\n",
              "        display: none;\n",
              "        fill: #1967D2;\n",
              "        height: 32px;\n",
              "        padding: 0 0 0 0;\n",
              "        width: 32px;\n",
              "      }\n",
              "\n",
              "      .colab-df-generate:hover {\n",
              "        background-color: #E2EBFA;\n",
              "        box-shadow: 0px 1px 2px rgba(60, 64, 67, 0.3), 0px 1px 3px 1px rgba(60, 64, 67, 0.15);\n",
              "        fill: #174EA6;\n",
              "      }\n",
              "\n",
              "      [theme=dark] .colab-df-generate {\n",
              "        background-color: #3B4455;\n",
              "        fill: #D2E3FC;\n",
              "      }\n",
              "\n",
              "      [theme=dark] .colab-df-generate:hover {\n",
              "        background-color: #434B5C;\n",
              "        box-shadow: 0px 1px 3px 1px rgba(0, 0, 0, 0.15);\n",
              "        filter: drop-shadow(0px 1px 2px rgba(0, 0, 0, 0.3));\n",
              "        fill: #FFFFFF;\n",
              "      }\n",
              "    </style>\n",
              "    <button class=\"colab-df-generate\" onclick=\"generateWithVariable('matrix_columns')\"\n",
              "            title=\"Generate code using this dataframe.\"\n",
              "            style=\"display:none;\">\n",
              "\n",
              "  <svg xmlns=\"http://www.w3.org/2000/svg\" height=\"24px\"viewBox=\"0 0 24 24\"\n",
              "       width=\"24px\">\n",
              "    <path d=\"M7,19H8.4L18.45,9,17,7.55,7,17.6ZM5,21V16.75L18.45,3.32a2,2,0,0,1,2.83,0l1.4,1.43a1.91,1.91,0,0,1,.58,1.4,1.91,1.91,0,0,1-.58,1.4L9.25,21ZM18.45,9,17,7.55Zm-12,3A5.31,5.31,0,0,0,4.9,8.1,5.31,5.31,0,0,0,1,6.5,5.31,5.31,0,0,0,4.9,4.9,5.31,5.31,0,0,0,6.5,1,5.31,5.31,0,0,0,8.1,4.9,5.31,5.31,0,0,0,12,6.5,5.46,5.46,0,0,0,6.5,12Z\"/>\n",
              "  </svg>\n",
              "    </button>\n",
              "    <script>\n",
              "      (() => {\n",
              "      const buttonEl =\n",
              "        document.querySelector('#id_03be668f-416b-42a3-9758-641c19192556 button.colab-df-generate');\n",
              "      buttonEl.style.display =\n",
              "        google.colab.kernel.accessAllowed ? 'block' : 'none';\n",
              "\n",
              "      buttonEl.onclick = () => {\n",
              "        google.colab.notebook.generateWithVariable('matrix_columns');\n",
              "      }\n",
              "      })();\n",
              "    </script>\n",
              "  </div>\n",
              "\n",
              "    </div>\n",
              "  </div>\n"
            ],
            "application/vnd.google.colaboratory.intrinsic+json": {
              "type": "dataframe",
              "variable_name": "matrix_columns",
              "summary": "{\n  \"name\": \"matrix_columns\",\n  \"rows\": 5,\n  \"fields\": [\n    {\n      \"column\": \"tv_ads\",\n      \"properties\": {\n        \"dtype\": \"number\",\n        \"std\": 0.428953567291523,\n        \"min\": 0.0007267125302144498,\n        \"max\": 1.0,\n        \"num_unique_values\": 5,\n        \"samples\": [\n          0.0007267125302144498,\n          0.2596304171506988,\n          0.004914478406793653\n        ],\n        \"semantic_type\": \"\",\n        \"description\": \"\"\n      }\n    },\n    {\n      \"column\": \"radio_ads\",\n      \"properties\": {\n        \"dtype\": \"number\",\n        \"std\": 0.4399967003548482,\n        \"min\": -0.007872315035189092,\n        \"max\": 1.0,\n        \"num_unique_values\": 5,\n        \"samples\": [\n          1.0,\n          0.09088270963251646,\n          -0.007872315035189092\n        ],\n        \"semantic_type\": \"\",\n        \"description\": \"\"\n      }\n    },\n    {\n      \"column\": \"newspaper_ads\",\n      \"properties\": {\n        \"dtype\": \"number\",\n        \"std\": 0.44806750185291666,\n        \"min\": -0.007872315035189092,\n        \"max\": 1.0,\n        \"num_unique_values\": 5,\n        \"samples\": [\n          -0.007872315035189092,\n          -0.0028678605386438056,\n          1.0\n        ],\n        \"semantic_type\": \"\",\n        \"description\": \"\"\n      }\n    },\n    {\n      \"column\": \"digital_marketing\",\n      \"properties\": {\n        \"dtype\": \"number\",\n        \"std\": 0.5268050367823296,\n        \"min\": -0.0022134540082640805,\n        \"max\": 1.0,\n        \"num_unique_values\": 5,\n        \"samples\": [\n          -0.0022134540082640805,\n          0.934211621101949,\n          -0.0016044577242441767\n        ],\n        \"semantic_type\": \"\",\n        \"description\": \"\"\n      }\n    },\n    {\n      \"column\": \"sales\",\n      \"properties\": {\n        \"dtype\": \"number\",\n        \"std\": 0.47619665768982583,\n        \"min\": -0.0028678605386438056,\n        \"max\": 1.0,\n        \"num_unique_values\": 5,\n        \"samples\": [\n          0.09088270963251646,\n          1.0,\n          -0.0028678605386438056\n        ],\n        \"semantic_type\": \"\",\n        \"description\": \"\"\n      }\n    }\n  ]\n}"
            }
          },
          "metadata": {},
          "execution_count": 29
        }
      ]
    },
    {
      "cell_type": "markdown",
      "source": [
        "Then plot it as a heatmap using Seaborn:"
      ],
      "metadata": {
        "id": "CraGVJY-GCTQ"
      }
    },
    {
      "cell_type": "code",
      "source": [
        "plt.figure(figsize=(8, 6))\n",
        "heatmap = sns.heatmap(matrix_columns, annot=True, cmap='coolwarm', fmt='.4f')\n",
        "plt.title('the relationship between advertising costs for each channel and sales')"
      ],
      "metadata": {
        "id": "5aBrR---0XWa",
        "colab": {
          "base_uri": "https://localhost:8080/",
          "height": 669
        },
        "outputId": "cd26b548-6ee6-401b-e030-61b33fb54be4"
      },
      "execution_count": null,
      "outputs": [
        {
          "output_type": "execute_result",
          "data": {
            "text/plain": [
              "Text(0.5, 1.0, 'the relationship between advertising costs for each channel and sales')"
            ]
          },
          "metadata": {},
          "execution_count": 35
        },
        {
          "output_type": "display_data",
          "data": {
            "text/plain": [
              "<Figure size 800x600 with 2 Axes>"
            ],
            "image/png": "[encoded data removed]"
          },
          "metadata": {}
        }
      ]
    },
    {
      "cell_type": "markdown",
      "source": [
        "**Conclusions:**  \n",
        "Most advertising channels exhibit weak correlations with sales, both positive and negative. In contrast, the digital marketing channel shows a very strong positive correlation with sales (r = 0.93), indicating it is the most significant driver of revenue.  \n",
        "***Recommendation: It is advisable to allocate a larger portion of the budget to digital marketing, given its substantial impact on revenue.***"
      ],
      "metadata": {
        "id": "XK09wwhdv5Vd"
      }
    },
    {
      "cell_type": "markdown",
      "source": [
        "## **4️⃣ Regression**"
      ],
      "metadata": {
        "id": "PzNMBLFXx9Bz"
      }
    },
    {
      "cell_type": "markdown",
      "source": [
        "**1. Create variables $x$ and $y$ containing 2 columns that you want to use for fitting multiple linear regression:**"
      ],
      "metadata": {
        "id": "oL_gTkjNf7UM"
      }
    },
    {
      "cell_type": "code",
      "source": [
        "df.head()"
      ],
      "metadata": {
        "id": "GmpbamLhyZdT",
        "outputId": "5e2154ec-ef1c-4e7e-d510-ed00deb90c95",
        "colab": {
          "base_uri": "https://localhost:8080/",
          "height": 206
        }
      },
      "execution_count": null,
      "outputs": [
        {
          "output_type": "execute_result",
          "data": {
            "text/plain": [
              "       tv_ads   radio_ads  newspaper_ads  digital_marketing         sales\n",
              "0  437.086107  227.135984     149.687216        1099.406439   7753.504975\n",
              "1  955.642876  263.046047     145.524769        1544.144191  11683.762317\n",
              "2  758.794548  434.546327     112.930487        1212.800205   8910.744929\n",
              "3  638.792636  203.001974     250.521225         349.944650   3339.284889\n",
              "4  240.416776  441.342358     157.564771         534.044426   4361.964031"
            ],
            "text/html": [
              "\n",
              "  <div id=\"df-39cd9284-31ed-4593-8a15-c5eeeac921ca\" class=\"colab-df-container\">\n",
              "    <div>\n",
              "<style scoped>\n",
              "    .dataframe tbody tr th:only-of-type {\n",
              "        vertical-align: middle;\n",
              "    }\n",
              "\n",
              "    .dataframe tbody tr th {\n",
              "        vertical-align: top;\n",
              "    }\n",
              "\n",
              "    .dataframe thead th {\n",
              "        text-align: right;\n",
              "    }\n",
              "</style>\n",
              "<table border=\"1\" class=\"dataframe\">\n",
              "  <thead>\n",
              "    <tr style=\"text-align: right;\">\n",
              "      <th></th>\n",
              "      <th>tv_ads</th>\n",
              "      <th>radio_ads</th>\n",
              "      <th>newspaper_ads</th>\n",
              "      <th>digital_marketing</th>\n",
              "      <th>sales</th>\n",
              "    </tr>\n",
              "  </thead>\n",
              "  <tbody>\n",
              "    <tr>\n",
              "      <th>0</th>\n",
              "      <td>437.086107</td>\n",
              "      <td>227.135984</td>\n",
              "      <td>149.687216</td>\n",
              "      <td>1099.406439</td>\n",
              "      <td>7753.504975</td>\n",
              "    </tr>\n",
              "    <tr>\n",
              "      <th>1</th>\n",
              "      <td>955.642876</td>\n",
              "      <td>263.046047</td>\n",
              "      <td>145.524769</td>\n",
              "      <td>1544.144191</td>\n",
              "      <td>11683.762317</td>\n",
              "    </tr>\n",
              "    <tr>\n",
              "      <th>2</th>\n",
              "      <td>758.794548</td>\n",
              "      <td>434.546327</td>\n",
              "      <td>112.930487</td>\n",
              "      <td>1212.800205</td>\n",
              "      <td>8910.744929</td>\n",
              "    </tr>\n",
              "    <tr>\n",
              "      <th>3</th>\n",
              "      <td>638.792636</td>\n",
              "      <td>203.001974</td>\n",
              "      <td>250.521225</td>\n",
              "      <td>349.944650</td>\n",
              "      <td>3339.284889</td>\n",
              "    </tr>\n",
              "    <tr>\n",
              "      <th>4</th>\n",
              "      <td>240.416776</td>\n",
              "      <td>441.342358</td>\n",
              "      <td>157.564771</td>\n",
              "      <td>534.044426</td>\n",
              "      <td>4361.964031</td>\n",
              "    </tr>\n",
              "  </tbody>\n",
              "</table>\n",
              "</div>\n",
              "    <div class=\"colab-df-buttons\">\n",
              "\n",
              "  <div class=\"colab-df-container\">\n",
              "    <button class=\"colab-df-convert\" onclick=\"convertToInteractive('df-39cd9284-31ed-4593-8a15-c5eeeac921ca')\"\n",
              "            title=\"Convert this dataframe to an interactive table.\"\n",
              "            style=\"display:none;\">\n",
              "\n",
              "  <svg xmlns=\"http://www.w3.org/2000/svg\" height=\"24px\" viewBox=\"0 -960 960 960\">\n",
              "    <path d=\"M120-120v-720h720v720H120Zm60-500h600v-160H180v160Zm220 220h160v-160H400v160Zm0 220h160v-160H400v160ZM180-400h160v-160H180v160Zm440 0h160v-160H620v160ZM180-180h160v-160H180v160Zm440 0h160v-160H620v160Z\"/>\n",
              "  </svg>\n",
              "    </button>\n",
              "\n",
              "  <style>\n",
              "    .colab-df-container {\n",
              "      display:flex;\n",
              "      gap: 12px;\n",
              "    }\n",
              "\n",
              "    .colab-df-convert {\n",
              "      background-color: #E8F0FE;\n",
              "      border: none;\n",
              "      border-radius: 50%;\n",
              "      cursor: pointer;\n",
              "      display: none;\n",
              "      fill: #1967D2;\n",
              "      height: 32px;\n",
              "      padding: 0 0 0 0;\n",
              "      width: 32px;\n",
              "    }\n",
              "\n",
              "    .colab-df-convert:hover {\n",
              "      background-color: #E2EBFA;\n",
              "      box-shadow: 0px 1px 2px rgba(60, 64, 67, 0.3), 0px 1px 3px 1px rgba(60, 64, 67, 0.15);\n",
              "      fill: #174EA6;\n",
              "    }\n",
              "\n",
              "    .colab-df-buttons div {\n",
              "      margin-bottom: 4px;\n",
              "    }\n",
              "\n",
              "    [theme=dark] .colab-df-convert {\n",
              "      background-color: #3B4455;\n",
              "      fill: #D2E3FC;\n",
              "    }\n",
              "\n",
              "    [theme=dark] .colab-df-convert:hover {\n",
              "      background-color: #434B5C;\n",
              "      box-shadow: 0px 1px 3px 1px rgba(0, 0, 0, 0.15);\n",
              "      filter: drop-shadow(0px 1px 2px rgba(0, 0, 0, 0.3));\n",
              "      fill: #FFFFFF;\n",
              "    }\n",
              "  </style>\n",
              "\n",
              "    <script>\n",
              "      const buttonEl =\n",
              "        document.querySelector('#df-39cd9284-31ed-4593-8a15-c5eeeac921ca button.colab-df-convert');\n",
              "      buttonEl.style.display =\n",
              "        google.colab.kernel.accessAllowed ? 'block' : 'none';\n",
              "\n",
              "      async function convertToInteractive(key) {\n",
              "        const element = document.querySelector('#df-39cd9284-31ed-4593-8a15-c5eeeac921ca');\n",
              "        const dataTable =\n",
              "          await google.colab.kernel.invokeFunction('convertToInteractive',\n",
              "                                                    [key], {});\n",
              "        if (!dataTable) return;\n",
              "\n",
              "        const docLinkHtml = 'Like what you see? Visit the ' +\n",
              "          '<a target=\"_blank\" href=https://colab.research.google.com/notebooks/data_table.ipynb>data table notebook</a>'\n",
              "          + ' to learn more about interactive tables.';\n",
              "        element.innerHTML = '';\n",
              "        dataTable['output_type'] = 'display_data';\n",
              "        await google.colab.output.renderOutput(dataTable, element);\n",
              "        const docLink = document.createElement('div');\n",
              "        docLink.innerHTML = docLinkHtml;\n",
              "        element.appendChild(docLink);\n",
              "      }\n",
              "    </script>\n",
              "  </div>\n",
              "\n",
              "\n",
              "    <div id=\"df-7699ecf5-ffa1-4ff0-904a-d0561d3b93ef\">\n",
              "      <button class=\"colab-df-quickchart\" onclick=\"quickchart('df-7699ecf5-ffa1-4ff0-904a-d0561d3b93ef')\"\n",
              "                title=\"Suggest charts\"\n",
              "                style=\"display:none;\">\n",
              "\n",
              "<svg xmlns=\"http://www.w3.org/2000/svg\" height=\"24px\"viewBox=\"0 0 24 24\"\n",
              "     width=\"24px\">\n",
              "    <g>\n",
              "        <path d=\"M19 3H5c-1.1 0-2 .9-2 2v14c0 1.1.9 2 2 2h14c1.1 0 2-.9 2-2V5c0-1.1-.9-2-2-2zM9 17H7v-7h2v7zm4 0h-2V7h2v10zm4 0h-2v-4h2v4z\"/>\n",
              "    </g>\n",
              "</svg>\n",
              "      </button>\n",
              "\n",
              "<style>\n",
              "  .colab-df-quickchart {\n",
              "      --bg-color: #E8F0FE;\n",
              "      --fill-color: #1967D2;\n",
              "      --hover-bg-color: #E2EBFA;\n",
              "      --hover-fill-color: #174EA6;\n",
              "      --disabled-fill-color: #AAA;\n",
              "      --disabled-bg-color: #DDD;\n",
              "  }\n",
              "\n",
              "  [theme=dark] .colab-df-quickchart {\n",
              "      --bg-color: #3B4455;\n",
              "      --fill-color: #D2E3FC;\n",
              "      --hover-bg-color: #434B5C;\n",
              "      --hover-fill-color: #FFFFFF;\n",
              "      --disabled-bg-color: #3B4455;\n",
              "      --disabled-fill-color: #666;\n",
              "  }\n",
              "\n",
              "  .colab-df-quickchart {\n",
              "    background-color: var(--bg-color);\n",
              "    border: none;\n",
              "    border-radius: 50%;\n",
              "    cursor: pointer;\n",
              "    display: none;\n",
              "    fill: var(--fill-color);\n",
              "    height: 32px;\n",
              "    padding: 0;\n",
              "    width: 32px;\n",
              "  }\n",
              "\n",
              "  .colab-df-quickchart:hover {\n",
              "    background-color: var(--hover-bg-color);\n",
              "    box-shadow: 0 1px 2px rgba(60, 64, 67, 0.3), 0 1px 3px 1px rgba(60, 64, 67, 0.15);\n",
              "    fill: var(--button-hover-fill-color);\n",
              "  }\n",
              "\n",
              "  .colab-df-quickchart-complete:disabled,\n",
              "  .colab-df-quickchart-complete:disabled:hover {\n",
              "    background-color: var(--disabled-bg-color);\n",
              "    fill: var(--disabled-fill-color);\n",
              "    box-shadow: none;\n",
              "  }\n",
              "\n",
              "  .colab-df-spinner {\n",
              "    border: 2px solid var(--fill-color);\n",
              "    border-color: transparent;\n",
              "    border-bottom-color: var(--fill-color);\n",
              "    animation:\n",
              "      spin 1s steps(1) infinite;\n",
              "  }\n",
              "\n",
              "  @keyframes spin {\n",
              "    0% {\n",
              "      border-color: transparent;\n",
              "      border-bottom-color: var(--fill-color);\n",
              "      border-left-color: var(--fill-color);\n",
              "    }\n",
              "    20% {\n",
              "      border-color: transparent;\n",
              "      border-left-color: var(--fill-color);\n",
              "      border-top-color: var(--fill-color);\n",
              "    }\n",
              "    30% {\n",
              "      border-color: transparent;\n",
              "      border-left-color: var(--fill-color);\n",
              "      border-top-color: var(--fill-color);\n",
              "      border-right-color: var(--fill-color);\n",
              "    }\n",
              "    40% {\n",
              "      border-color: transparent;\n",
              "      border-right-color: var(--fill-color);\n",
              "      border-top-color: var(--fill-color);\n",
              "    }\n",
              "    60% {\n",
              "      border-color: transparent;\n",
              "      border-right-color: var(--fill-color);\n",
              "    }\n",
              "    80% {\n",
              "      border-color: transparent;\n",
              "      border-right-color: var(--fill-color);\n",
              "      border-bottom-color: var(--fill-color);\n",
              "    }\n",
              "    90% {\n",
              "      border-color: transparent;\n",
              "      border-bottom-color: var(--fill-color);\n",
              "    }\n",
              "  }\n",
              "</style>\n",
              "\n",
              "      <script>\n",
              "        async function quickchart(key) {\n",
              "          const quickchartButtonEl =\n",
              "            document.querySelector('#' + key + ' button');\n",
              "          quickchartButtonEl.disabled = true;  // To prevent multiple clicks.\n",
              "          quickchartButtonEl.classList.add('colab-df-spinner');\n",
              "          try {\n",
              "            const charts = await google.colab.kernel.invokeFunction(\n",
              "                'suggestCharts', [key], {});\n",
              "          } catch (error) {\n",
              "            console.error('Error during call to suggestCharts:', error);\n",
              "          }\n",
              "          quickchartButtonEl.classList.remove('colab-df-spinner');\n",
              "          quickchartButtonEl.classList.add('colab-df-quickchart-complete');\n",
              "        }\n",
              "        (() => {\n",
              "          let quickchartButtonEl =\n",
              "            document.querySelector('#df-7699ecf5-ffa1-4ff0-904a-d0561d3b93ef button');\n",
              "          quickchartButtonEl.style.display =\n",
              "            google.colab.kernel.accessAllowed ? 'block' : 'none';\n",
              "        })();\n",
              "      </script>\n",
              "    </div>\n",
              "\n",
              "    </div>\n",
              "  </div>\n"
            ],
            "application/vnd.google.colaboratory.intrinsic+json": {
              "type": "dataframe",
              "variable_name": "df",
              "summary": "{\n  \"name\": \"df\",\n  \"rows\": 5000,\n  \"fields\": [\n    {\n      \"column\": \"tv_ads\",\n      \"properties\": {\n        \"dtype\": \"number\",\n        \"std\": 308.7134767978824,\n        \"min\": 100.01047127982952,\n        \"max\": 6735.856227720255,\n        \"num_unique_values\": 4985,\n        \"samples\": [\n          165.87633139159928,\n          667.829611206247,\n          437.3835215713336\n        ],\n        \"semantic_type\": \"\",\n        \"description\": \"\"\n      }\n    },\n    {\n      \"column\": \"radio_ads\",\n      \"properties\": {\n        \"dtype\": \"number\",\n        \"std\": 128.32642853318526,\n        \"min\": 50.02377211953356,\n        \"max\": 499.7773353688325,\n        \"num_unique_values\": 4983,\n        \"samples\": [\n          146.55416904178242,\n          140.80772671360563,\n          454.75388804922585\n        ],\n        \"semantic_type\": \"\",\n        \"description\": \"\"\n      }\n    },\n    {\n      \"column\": \"newspaper_ads\",\n      \"properties\": {\n        \"dtype\": \"number\",\n        \"std\": 78.31656316740322,\n        \"min\": 30.042591036075315,\n        \"max\": 299.9473889161264,\n        \"num_unique_values\": 4978,\n        \"samples\": [\n          185.09711447001675,\n          46.653679988335774,\n          119.7236758997891\n        ],\n        \"semantic_type\": \"\",\n        \"description\": \"\"\n      }\n    },\n    {\n      \"column\": \"digital_marketing\",\n      \"properties\": {\n        \"dtype\": \"number\",\n        \"std\": 516.79253201418,\n        \"min\": 200.45441808301177,\n        \"max\": 1999.8646882997173,\n        \"num_unique_values\": 4975,\n        \"samples\": [\n          1979.3055258707711,\n          1458.0697897013904,\n          847.8342694886119\n        ],\n        \"semantic_type\": \"\",\n        \"description\": \"\"\n      }\n    },\n    {\n      \"column\": \"sales\",\n      \"properties\": {\n        \"dtype\": \"number\",\n        \"std\": 2783.68029808026,\n        \"min\": 1043.8254658034868,\n        \"max\": 14322.724101752456,\n        \"num_unique_values\": 4983,\n        \"samples\": [\n          9582.544759967835,\n          9780.779112410411,\n          6513.874365185372\n        ],\n        \"semantic_type\": \"\",\n        \"description\": \"\"\n      }\n    }\n  ]\n}"
            }
          },
          "metadata": {},
          "execution_count": 36
        }
      ]
    },
    {
      "cell_type": "code",
      "source": [
        "y = df['sales']\n",
        "x = df[['tv_ads', 'radio_ads', 'newspaper_ads', 'digital_marketing']]"
      ],
      "metadata": {
        "id": "DjThnKHLZ-x6"
      },
      "execution_count": null,
      "outputs": []
    },
    {
      "cell_type": "markdown",
      "source": [
        "**2. Add a contant to $x$**"
      ],
      "metadata": {
        "id": "6H9dxWUHgiQR"
      }
    },
    {
      "cell_type": "code",
      "source": [
        "x = sm.add_constant(x)"
      ],
      "metadata": {
        "id": "m9T7oEOThNdM"
      },
      "execution_count": null,
      "outputs": []
    },
    {
      "cell_type": "markdown",
      "source": [
        "**3. Fit simple linear regression model**"
      ],
      "metadata": {
        "id": "dGuzMXjeh_wI"
      }
    },
    {
      "cell_type": "code",
      "source": [
        "model = sm.OLS(y, x).fit()"
      ],
      "metadata": {
        "id": "SNIE7hYoaQrH"
      },
      "execution_count": null,
      "outputs": []
    },
    {
      "cell_type": "markdown",
      "source": [
        "**4. Print the summary**"
      ],
      "metadata": {
        "id": "N7U2ajtyiNoH"
      }
    },
    {
      "cell_type": "code",
      "source": [
        "print(model.summary())"
      ],
      "metadata": {
        "colab": {
          "base_uri": "https://localhost:8080/"
        },
        "id": "R7RsA3Y1iLqS",
        "outputId": "154b8e52-5cef-4304-ed59-f172e285bc48"
      },
      "execution_count": null,
      "outputs": [
        {
          "output_type": "stream",
          "name": "stdout",
          "text": [
            "                            OLS Regression Results                            \n",
            "==============================================================================\n",
            "Dep. Variable:                  sales   R-squared:                       0.938\n",
            "Model:                            OLS   Adj. R-squared:                  0.938\n",
            "Method:                 Least Squares   F-statistic:                 1.892e+04\n",
            "Date:                Wed, 28 May 2025   Prob (F-statistic):               0.00\n",
            "Time:                        07:32:12   Log-Likelihood:                -39797.\n",
            "No. Observations:                5000   AIC:                         7.960e+04\n",
            "Df Residuals:                    4995   BIC:                         7.964e+04\n",
            "Df Model:                           4                                         \n",
            "Covariance Type:            nonrobust                                         \n",
            "=====================================================================================\n",
            "                        coef    std err          t      P>|t|      [0.025      0.975]\n",
            "-------------------------------------------------------------------------------------\n",
            "const               457.7749     41.210     11.108      0.000     376.985     538.564\n",
            "tv_ads                2.1474      0.032     67.619      0.000       2.085       2.210\n",
            "radio_ads             2.0120      0.076     26.342      0.000       1.862       2.162\n",
            "newspaper_ads        -0.0646      0.125     -0.516      0.606      -0.310       0.181\n",
            "digital_marketing     5.0036      0.019    263.754      0.000       4.966       5.041\n",
            "==============================================================================\n",
            "Omnibus:                     4126.168   Durbin-Watson:                   1.970\n",
            "Prob(Omnibus):                  0.000   Jarque-Bera (JB):           580968.669\n",
            "Skew:                          -3.233   Prob(JB):                         0.00\n",
            "Kurtosis:                      55.410   Cond. No.                     5.76e+03\n",
            "==============================================================================\n",
            "\n",
            "Notes:\n",
            "[1] Standard Errors assume that the covariance matrix of the errors is correctly specified.\n",
            "[2] The condition number is large, 5.76e+03. This might indicate that there are\n",
            "strong multicollinearity or other numerical problems.\n"
          ]
        }
      ]
    },
    {
      "cell_type": "markdown",
      "source": [
        "#### **Overall model fit**\n"
      ],
      "metadata": {
        "id": "vkusZIh_G_Qg"
      }
    },
    {
      "cell_type": "markdown",
      "source": [
        "- **R-squared: $0.938$**: This means that $93.8\\%$ of the variance in the dependent variable (`sales`) is explained by the independent variables (`tv_ads`, `radio_ads`, `newspaper` and `digital_marketing`). This indicates a very good fit of the model to the data.\n",
        "- **Adj. R-squared: $0.938$**: This adjusts for the number of predictors in the model and still indicates a very good fit."
      ],
      "metadata": {
        "id": "GKDJ3F3iHEC1"
      }
    },
    {
      "cell_type": "markdown",
      "source": [
        "#### **Individual coefficients**\n"
      ],
      "metadata": {
        "id": "SJVK87DDHRfV"
      }
    },
    {
      "cell_type": "markdown",
      "source": [
        "Let's look at each coefficient and its significance:"
      ],
      "metadata": {
        "id": "H_WX-R0-HaRo"
      }
    },
    {
      "cell_type": "markdown",
      "source": [
        "\n",
        "1. **Intercept (const):**\n",
        "   - coef: $457.7749$: This is the value of sale when all independent variables are zero.\n",
        "2. **Slopes:**\n",
        "    - $Newspaper$:\n",
        "        - coef: $-0.0646$: For every unit increase in cost of Newspaper, Sale decrease by $-0.0646$ units, holding all other variables constant.\n",
        "        - p-value: $0.606$: This is higher than  0.05 , indicating that the slope is not statistically significant. It means that we can exclude it from the model"
      ],
      "metadata": {
        "id": "EwgdpnDlHWVb"
      }
    },
    {
      "cell_type": "markdown",
      "source": [
        "### **Scenario-Based Analysis**\n",
        "\n",
        "\n"
      ],
      "metadata": {
        "id": "bvT3dMqLCNn9"
      }
    },
    {
      "cell_type": "markdown",
      "source": [
        "- If Newspaper Ads are stopped\n",
        "The coefficient for newspaper_ads is -0.0646 (not statistically significant) → Predicted sales remain nearly unchanged.\n",
        "\n",
        "- If focusing on a single advertising channel\n",
        "    - TV Ads only:\n",
        "Coefficient = 2.1474 → Every unit spent on TV Ads increases sales by an average of 2.15 units.\n",
        "\n",
        "    - Radio Ads only:\n",
        "Coefficient = 2.012 → Every unit spent on Radio Ads increases sales by an average of 2.01 units. **Effective, almost as strong as TV Ads.**\n",
        "\n",
        "    - Digital Marketing focus:\n",
        "Coefficient = 5.0036 → Every unit spent on Digital Marketing increases sales by an average of 5.00 units. **Quick comparison: the most effective among all channels**"
      ],
      "metadata": {
        "id": "kxIuj3dwDx60"
      }
    },
    {
      "cell_type": "markdown",
      "source": [
        "### **Summary**\n"
      ],
      "metadata": {
        "id": "3mQAHJzAG58B"
      }
    },
    {
      "cell_type": "markdown",
      "source": [
        "- The model explains $93.8\\%$ of the variance in sales, indicating a very good fit.\n",
        "- tv_ads, radio_ads ,digital_marketing width are all statistically significant predictors of sales.\n",
        "- The newspaper is not statistically significant, which is not uncommon in multiple regression models.  \n",
        "\n",
        "**Conclusion:** The model is strong enough for prediction, but removing newspaper_ads could help improve its performance."
      ],
      "metadata": {
        "id": "xe-yAIG3Kp5p"
      }
    }
  ],
  "metadata": {
    "colab": {
      "toc_visible": true,
      "provenance": []
    },
    "kernelspec": {
      "display_name": "Python 3",
      "name": "python3"
    }
  },
  "nbformat": 4,
  "nbformat_minor": 0
}